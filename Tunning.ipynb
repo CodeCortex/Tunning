{
  "nbformat": 4,
  "nbformat_minor": 0,
  "metadata": {
    "colab": {
      "provenance": [],
      "authorship_tag": "ABX9TyPhjEDvFs8mamlWSTIUYQtZ",
      "include_colab_link": true
    },
    "kernelspec": {
      "name": "python3",
      "display_name": "Python 3"
    },
    "language_info": {
      "name": "python"
    }
  },
  "cells": [
    {
      "cell_type": "markdown",
      "metadata": {
        "id": "view-in-github",
        "colab_type": "text"
      },
      "source": [
        "<a href=\"https://colab.research.google.com/github/CodeCortex/Tunning/blob/main/Tunning.ipynb\" target=\"_parent\"><img src=\"https://colab.research.google.com/assets/colab-badge.svg\" alt=\"Open In Colab\"/></a>"
      ]
    },
    {
      "cell_type": "code",
      "execution_count": null,
      "metadata": {
        "colab": {
          "base_uri": "https://localhost:8080/"
        },
        "id": "JZ37xxSlVmIV",
        "outputId": "ea8e26c5-00c1-47be-8873-d0874b39aa92"
      },
      "outputs": [
        {
          "output_type": "stream",
          "name": "stdout",
          "text": [
            "Array =  [1 2 3]\n",
            "<class 'numpy.ndarray'>\n"
          ]
        }
      ],
      "source": [
        "import numpy as np\n",
        "arr= np.array((1,2,3))\n",
        "print(\"Array = \", arr);\n",
        "print(type(arr))"
      ]
    },
    {
      "cell_type": "code",
      "source": [
        "x= 5\n",
        "if x==5:\n",
        "  print(\"x is 5\")\n",
        "else:\n",
        "  print(\"x is not 5\")\n",
        ""
      ],
      "metadata": {
        "id": "ER9GW0cEYws6",
        "outputId": "2f085c4f-c6e5-4ef0-ea70-4e5cd7d35b93",
        "colab": {
          "base_uri": "https://localhost:8080/"
        }
      },
      "execution_count": 7,
      "outputs": [
        {
          "output_type": "stream",
          "name": "stdout",
          "text": [
            "x is 5\n"
          ]
        }
      ]
    }
  ]
}