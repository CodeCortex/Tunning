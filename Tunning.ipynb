{
  "nbformat": 4,
  "nbformat_minor": 0,
  "metadata": {
    "colab": {
      "provenance": [],
      "authorship_tag": "ABX9TyNaodLHrR2RuM3vqbEUF1vu",
      "include_colab_link": true
    },
    "kernelspec": {
      "name": "python3",
      "display_name": "Python 3"
    },
    "language_info": {
      "name": "python"
    }
  },
  "cells": [
    {
      "cell_type": "markdown",
      "metadata": {
        "id": "view-in-github",
        "colab_type": "text"
      },
      "source": [
        "<a href=\"https://colab.research.google.com/github/CodeCortex/Tunning/blob/main/Tunning.ipynb\" target=\"_parent\"><img src=\"https://colab.research.google.com/assets/colab-badge.svg\" alt=\"Open In Colab\"/></a>"
      ]
    },
    {
      "cell_type": "code",
      "execution_count": null,
      "metadata": {
        "colab": {
          "base_uri": "https://localhost:8080/"
        },
        "id": "JZ37xxSlVmIV",
        "outputId": "ea8e26c5-00c1-47be-8873-d0874b39aa92"
      },
      "outputs": [
        {
          "output_type": "stream",
          "name": "stdout",
          "text": [
            "Array =  [1 2 3]\n",
            "<class 'numpy.ndarray'>\n"
          ]
        }
      ],
      "source": [
        "import numpy as np\n",
        "arr= np.array((1,2,3))\n",
        "print(\"Array = \", arr);\n",
        "print(type(arr))"
      ]
    },
    {
      "cell_type": "code",
      "source": [
        "for x in range(1, 10, 2):\n",
        "  print x"
      ],
      "metadata": {
        "id": "G5UapIBdX0Ko"
      },
      "execution_count": null,
      "outputs": []
    }
  ]
}